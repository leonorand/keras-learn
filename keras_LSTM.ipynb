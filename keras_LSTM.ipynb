{
  "nbformat": 4,
  "nbformat_minor": 0,
  "metadata": {
    "colab": {
      "name": "keras-LSTM.ipynb",
      "version": "0.3.2",
      "provenance": [],
      "collapsed_sections": [],
      "include_colab_link": true
    },
    "kernelspec": {
      "name": "python2",
      "display_name": "Python 2"
    },
    "accelerator": "GPU"
  },
  "cells": [
    {
      "cell_type": "markdown",
      "metadata": {
        "id": "view-in-github",
        "colab_type": "text"
      },
      "source": [
        "<a href=\"https://colab.research.google.com/github/leonorand/keras-learn/blob/master/keras_LSTM.ipynb\" target=\"_parent\"><img src=\"https://colab.research.google.com/assets/colab-badge.svg\" alt=\"Open In Colab\"/></a>"
      ]
    },
    {
      "cell_type": "code",
      "metadata": {
        "id": "pzsopsIH6V09",
        "colab_type": "code",
        "colab": {}
      },
      "source": [
        "from keras.models import Sequential\n",
        "from keras.layers import Dense, Dropout\n",
        "from keras.layers import Embedding\n",
        "from keras.layers import LSTM\n",
        "\n",
        "max_features = 1024\n",
        "\n",
        "model = Sequential()\n",
        "model.add(Embedding(max_features, output_dim=256))\n",
        "model.add(LSTM(128))\n",
        "#model.add(Dropout(0.5))\n",
        "model.add(Dense(1, activation='sigmoid'))\n",
        "\n",
        "model.compile(loss='binary_crossentropy',\n",
        "              optimizer='rmsprop',\n",
        "              metrics=['accuracy'])\n",
        "\n",
        "model.fit(x_train, y_train, batch_size=16, epochs=10)\n",
        "score = model.evaluate(x_test, y_test, batch_size=16)"
      ],
      "execution_count": 0,
      "outputs": []
    },
    {
      "cell_type": "markdown",
      "metadata": {
        "id": "hEOWUX-6AfYI",
        "colab_type": "text"
      },
      "source": [
        "WARNING:tensorflow:From /Users/leonorand/anaconda3/envs/spyder-3.3.4/lib/python3.7/site-packages/tensorflow/python/ops/math_ops.py:3066: to_int32 (from tensorflow.python.ops.math_ops) is deprecated and will be removed in a future version.\n",
        "Instructions for updating:\n",
        "Use tf.cast instead.\n",
        "Epoch 1/10\n",
        "2019-06-04 13:39:17.754687: I tensorflow/core/platform/cpu_feature_guard.cc:141] Your CPU supports instructions that this TensorFlow binary was not compiled to use: AVX2 FMA\n",
        "1000/1000 [==============================] - 6s 6ms/step - loss: 0.6961 - acc: 0.5110\n",
        "Epoch 2/10\n",
        "1000/1000 [==============================] - 4s 4ms/step - loss: 0.6952 - acc: 0.4730\n",
        "Epoch 3/10\n",
        "1000/1000 [==============================] - 4s 4ms/step - loss: 0.6942 - acc: 0.4910\n",
        "Epoch 4/10\n",
        "1000/1000 [==============================] - 4s 4ms/step - loss: 0.6945 - acc: 0.4850\n",
        "Epoch 5/10\n",
        "1000/1000 [==============================] - 4s 4ms/step - loss: 0.6939 - acc: 0.4990\n",
        "Epoch 6/10\n",
        "1000/1000 [==============================] - 4s 4ms/step - loss: 0.6937 - acc: 0.4770\n",
        "Epoch 7/10\n",
        "1000/1000 [==============================] - 4s 4ms/step - loss: 0.6935 - acc: 0.4710\n",
        "Epoch 8/10\n",
        "1000/1000 [==============================] - 4s 4ms/step - loss: 0.6936 - acc: 0.5050\n",
        "Epoch 9/10\n",
        "1000/1000 [==============================] - 4s 4ms/step - loss: 0.6935 - acc: 0.4770\n",
        "Epoch 10/10\n",
        "1000/1000 [==============================] - 4s 4ms/step - loss: 0.6934 - acc: 0.5150\n",
        "100/100 [==============================] - 0s 4ms/step"
      ]
    }
  ]
}