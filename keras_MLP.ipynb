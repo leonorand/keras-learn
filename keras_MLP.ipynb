{
  "nbformat": 4,
  "nbformat_minor": 0,
  "metadata": {
    "colab": {
      "name": "keras-MLP.ipynb",
      "version": "0.3.2",
      "provenance": []
    },
    "kernelspec": {
      "name": "python3",
      "display_name": "Python 3"
    }
  },
  "cells": [
    {
      "cell_type": "code",
      "metadata": {
        "id": "zhbMOkJ-3DKW",
        "colab_type": "code",
        "colab": {
          "base_uri": "https://localhost:8080/",
          "height": 904
        },
        "outputId": "b1a3e3eb-8b99-43b6-8e3b-7a4af2ff50f3"
      },
      "source": [
        "import numpy as np\n",
        "from keras.models import Sequential\n",
        "from keras.layers import Dense, Dropout\n",
        "\n",
        "# Generate dummy data\n",
        "x_train = np.random.random((1000, 20))\n",
        "y_train = np.random.randint(2, size=(1000, 1))\n",
        "x_test = np.random.random((100, 20))\n",
        "y_test = np.random.randint(2, size=(100, 1))\n",
        "\n",
        "model = Sequential()\n",
        "model.add(Dense(64, input_dim=20, activation='relu'))\n",
        "model.add(Dropout(0.5))\n",
        "model.add(Dense(64, activation='relu'))\n",
        "model.add(Dropout(0.5))\n",
        "model.add(Dense(1, activation='sigmoid'))\n",
        "\n",
        "model.compile(loss='binary_crossentropy',\n",
        "              optimizer='rmsprop',\n",
        "              metrics=['accuracy'])\n",
        "\n",
        "model.fit(x_train, y_train,\n",
        "          epochs=20,\n",
        "          batch_size=128)\n",
        "score = model.evaluate(x_test, y_test, batch_size=128)"
      ],
      "execution_count": 1,
      "outputs": [
        {
          "output_type": "stream",
          "text": [
            "Using TensorFlow backend.\n"
          ],
          "name": "stderr"
        },
        {
          "output_type": "stream",
          "text": [
            "WARNING:tensorflow:From /usr/local/lib/python3.6/dist-packages/tensorflow/python/framework/op_def_library.py:263: colocate_with (from tensorflow.python.framework.ops) is deprecated and will be removed in a future version.\n",
            "Instructions for updating:\n",
            "Colocations handled automatically by placer.\n",
            "WARNING:tensorflow:From /usr/local/lib/python3.6/dist-packages/keras/backend/tensorflow_backend.py:3445: calling dropout (from tensorflow.python.ops.nn_ops) with keep_prob is deprecated and will be removed in a future version.\n",
            "Instructions for updating:\n",
            "Please use `rate` instead of `keep_prob`. Rate should be set to `rate = 1 - keep_prob`.\n",
            "WARNING:tensorflow:From /usr/local/lib/python3.6/dist-packages/tensorflow/python/ops/math_ops.py:3066: to_int32 (from tensorflow.python.ops.math_ops) is deprecated and will be removed in a future version.\n",
            "Instructions for updating:\n",
            "Use tf.cast instead.\n",
            "Epoch 1/20\n",
            "1000/1000 [==============================] - 1s 850us/step - loss: 0.7077 - acc: 0.5040\n",
            "Epoch 2/20\n",
            "1000/1000 [==============================] - 0s 42us/step - loss: 0.7035 - acc: 0.5010\n",
            "Epoch 3/20\n",
            "1000/1000 [==============================] - 0s 29us/step - loss: 0.7020 - acc: 0.4840\n",
            "Epoch 4/20\n",
            "1000/1000 [==============================] - 0s 37us/step - loss: 0.7026 - acc: 0.4970\n",
            "Epoch 5/20\n",
            "1000/1000 [==============================] - 0s 36us/step - loss: 0.7040 - acc: 0.5070\n",
            "Epoch 6/20\n",
            "1000/1000 [==============================] - 0s 32us/step - loss: 0.6984 - acc: 0.4960\n",
            "Epoch 7/20\n",
            "1000/1000 [==============================] - 0s 50us/step - loss: 0.6944 - acc: 0.5320\n",
            "Epoch 8/20\n",
            "1000/1000 [==============================] - 0s 34us/step - loss: 0.6945 - acc: 0.5220\n",
            "Epoch 9/20\n",
            "1000/1000 [==============================] - 0s 36us/step - loss: 0.6949 - acc: 0.5240\n",
            "Epoch 10/20\n",
            "1000/1000 [==============================] - 0s 43us/step - loss: 0.6894 - acc: 0.5280\n",
            "Epoch 11/20\n",
            "1000/1000 [==============================] - 0s 33us/step - loss: 0.6923 - acc: 0.5390\n",
            "Epoch 12/20\n",
            "1000/1000 [==============================] - 0s 31us/step - loss: 0.6935 - acc: 0.5170\n",
            "Epoch 13/20\n",
            "1000/1000 [==============================] - 0s 39us/step - loss: 0.6924 - acc: 0.5260\n",
            "Epoch 14/20\n",
            "1000/1000 [==============================] - 0s 40us/step - loss: 0.6923 - acc: 0.5480\n",
            "Epoch 15/20\n",
            "1000/1000 [==============================] - 0s 35us/step - loss: 0.6929 - acc: 0.5350\n",
            "Epoch 16/20\n",
            "1000/1000 [==============================] - 0s 27us/step - loss: 0.6890 - acc: 0.5280\n",
            "Epoch 17/20\n",
            "1000/1000 [==============================] - 0s 28us/step - loss: 0.6912 - acc: 0.5010\n",
            "Epoch 18/20\n",
            "1000/1000 [==============================] - 0s 34us/step - loss: 0.6913 - acc: 0.5190\n",
            "Epoch 19/20\n",
            "1000/1000 [==============================] - 0s 34us/step - loss: 0.6888 - acc: 0.5270\n",
            "Epoch 20/20\n",
            "1000/1000 [==============================] - 0s 34us/step - loss: 0.6904 - acc: 0.5420\n",
            "100/100 [==============================] - 0s 857us/step\n"
          ],
          "name": "stdout"
        }
      ]
    }
  ]
}