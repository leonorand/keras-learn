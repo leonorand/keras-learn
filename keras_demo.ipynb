{
  "nbformat": 4,
  "nbformat_minor": 0,
  "metadata": {
    "colab": {
      "name": "keras-demo.ipynb",
      "version": "0.3.2",
      "provenance": [],
      "include_colab_link": true
    },
    "kernelspec": {
      "name": "python2",
      "display_name": "Python 2"
    }
  },
  "cells": [
    {
      "cell_type": "markdown",
      "metadata": {
        "id": "view-in-github",
        "colab_type": "text"
      },
      "source": [
        "<a href=\"https://colab.research.google.com/github/leonorand/keras-learn/blob/master/keras_demo.ipynb\" target=\"_parent\"><img src=\"https://colab.research.google.com/assets/colab-badge.svg\" alt=\"Open In Colab\"/></a>"
      ]
    },
    {
      "cell_type": "markdown",
      "metadata": {
        "id": "f6b8n1pCfEIX",
        "colab_type": "text"
      },
      "source": [
        "Multilayer Perceptron (MLP) for multi-class softmax classification:"
      ]
    },
    {
      "cell_type": "code",
      "metadata": {
        "id": "NW1PeVMBeV3I",
        "colab_type": "code",
        "colab": {
          "base_uri": "https://localhost:8080/",
          "height": 904
        },
        "outputId": "e90eb18a-a335-4cd0-fc47-5d11117e3472"
      },
      "source": [
        "import keras\n",
        "from keras.models import Sequential\n",
        "from keras.layers import Dense, Dropout, Activation\n",
        "from keras.optimizers import SGD\n",
        "\n",
        "# Generate dummy data\n",
        "import numpy as np\n",
        "x_train = np.random.random((1000, 20))\n",
        "y_train = keras.utils.to_categorical(np.random.randint(10, size=(1000, 1)), num_classes=10)\n",
        "x_test = np.random.random((100, 20))\n",
        "y_test = keras.utils.to_categorical(np.random.randint(10, size=(100, 1)), num_classes=10)\n",
        "\n",
        "model = Sequential()\n",
        "# Dense(64) is a fully-connected layer with 64 hidden units.\n",
        "# in the first layer, you must specify the expected input data shape:\n",
        "# here, 20-dimensional vectors.\n",
        "model.add(Dense(64, activation='relu', input_dim=20))\n",
        "model.add(Dropout(0.5))\n",
        "model.add(Dense(64, activation='relu'))\n",
        "model.add(Dropout(0.5))\n",
        "model.add(Dense(10, activation='softmax'))\n",
        "\n",
        "sgd = SGD(lr=0.01, decay=1e-6, momentum=0.9, nesterov=True)\n",
        "model.compile(loss='categorical_crossentropy',\n",
        "              optimizer=sgd,\n",
        "              metrics=['accuracy'])\n",
        "\n",
        "model.fit(x_train, y_train,\n",
        "          epochs=20,\n",
        "          batch_size=128)\n",
        "score = model.evaluate(x_test, y_test, batch_size=128)"
      ],
      "execution_count": 1,
      "outputs": [
        {
          "output_type": "stream",
          "text": [
            "Using TensorFlow backend.\n"
          ],
          "name": "stderr"
        },
        {
          "output_type": "stream",
          "text": [
            "WARNING:tensorflow:From /usr/local/lib/python2.7/dist-packages/tensorflow/python/framework/op_def_library.py:263: colocate_with (from tensorflow.python.framework.ops) is deprecated and will be removed in a future version.\n",
            "Instructions for updating:\n",
            "Colocations handled automatically by placer.\n",
            "WARNING:tensorflow:From /usr/local/lib/python2.7/dist-packages/keras/backend/tensorflow_backend.py:3445: calling dropout (from tensorflow.python.ops.nn_ops) with keep_prob is deprecated and will be removed in a future version.\n",
            "Instructions for updating:\n",
            "Please use `rate` instead of `keep_prob`. Rate should be set to `rate = 1 - keep_prob`.\n",
            "WARNING:tensorflow:From /usr/local/lib/python2.7/dist-packages/tensorflow/python/ops/math_ops.py:3066: to_int32 (from tensorflow.python.ops.math_ops) is deprecated and will be removed in a future version.\n",
            "Instructions for updating:\n",
            "Use tf.cast instead.\n",
            "Epoch 1/20\n",
            "1000/1000 [==============================] - 1s 1ms/step - loss: 2.3833 - acc: 0.1120\n",
            "Epoch 2/20\n",
            "1000/1000 [==============================] - 0s 32us/step - loss: 2.3305 - acc: 0.1090\n",
            "Epoch 3/20\n",
            "1000/1000 [==============================] - 0s 27us/step - loss: 2.3494 - acc: 0.0930\n",
            "Epoch 4/20\n",
            "1000/1000 [==============================] - 0s 41us/step - loss: 2.3198 - acc: 0.1160\n",
            "Epoch 5/20\n",
            "1000/1000 [==============================] - 0s 31us/step - loss: 2.3117 - acc: 0.1240\n",
            "Epoch 6/20\n",
            "1000/1000 [==============================] - 0s 40us/step - loss: 2.3243 - acc: 0.1150\n",
            "Epoch 7/20\n",
            "1000/1000 [==============================] - 0s 39us/step - loss: 2.3076 - acc: 0.1240\n",
            "Epoch 8/20\n",
            "1000/1000 [==============================] - 0s 29us/step - loss: 2.3168 - acc: 0.1140\n",
            "Epoch 9/20\n",
            "1000/1000 [==============================] - 0s 28us/step - loss: 2.3104 - acc: 0.1120\n",
            "Epoch 10/20\n",
            "1000/1000 [==============================] - 0s 39us/step - loss: 2.3116 - acc: 0.1080\n",
            "Epoch 11/20\n",
            "1000/1000 [==============================] - 0s 32us/step - loss: 2.3048 - acc: 0.1130\n",
            "Epoch 12/20\n",
            "1000/1000 [==============================] - 0s 31us/step - loss: 2.3109 - acc: 0.0920\n",
            "Epoch 13/20\n",
            "1000/1000 [==============================] - 0s 32us/step - loss: 2.3096 - acc: 0.1080\n",
            "Epoch 14/20\n",
            "1000/1000 [==============================] - 0s 36us/step - loss: 2.3016 - acc: 0.1040\n",
            "Epoch 15/20\n",
            "1000/1000 [==============================] - 0s 43us/step - loss: 2.3060 - acc: 0.1010\n",
            "Epoch 16/20\n",
            "1000/1000 [==============================] - 0s 37us/step - loss: 2.2893 - acc: 0.1240\n",
            "Epoch 17/20\n",
            "1000/1000 [==============================] - 0s 39us/step - loss: 2.3016 - acc: 0.1000\n",
            "Epoch 18/20\n",
            "1000/1000 [==============================] - 0s 35us/step - loss: 2.2961 - acc: 0.1230\n",
            "Epoch 19/20\n",
            "1000/1000 [==============================] - 0s 29us/step - loss: 2.2967 - acc: 0.1000\n",
            "Epoch 20/20\n",
            "1000/1000 [==============================] - 0s 33us/step - loss: 2.2976 - acc: 0.1090\n",
            "100/100 [==============================] - 0s 1ms/step\n"
          ],
          "name": "stdout"
        }
      ]
    }
  ]
}