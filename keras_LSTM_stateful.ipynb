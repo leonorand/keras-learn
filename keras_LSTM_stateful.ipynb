{
  "nbformat": 4,
  "nbformat_minor": 0,
  "metadata": {
    "colab": {
      "name": "keras-LSTM-stateful.ipynb",
      "version": "0.3.2",
      "provenance": [],
      "collapsed_sections": [],
      "include_colab_link": true
    },
    "kernelspec": {
      "name": "python2",
      "display_name": "Python 2"
    },
    "accelerator": "GPU"
  },
  "cells": [
    {
      "cell_type": "markdown",
      "metadata": {
        "id": "view-in-github",
        "colab_type": "text"
      },
      "source": [
        "<a href=\"https://colab.research.google.com/github/leonorand/keras-learn/blob/master/keras_LSTM_stateful.ipynb\" target=\"_parent\"><img src=\"https://colab.research.google.com/assets/colab-badge.svg\" alt=\"Open In Colab\"/></a>"
      ]
    },
    {
      "cell_type": "markdown",
      "metadata": {
        "id": "AGF6gU0LF7OO",
        "colab_type": "text"
      },
      "source": [
        "##Same stacked LSTM model, rendered \"stateful\"\n",
        "A stateful recurrent model is one for which the internal states (memories) obtained after processing a batch of samples are reused as initial states for the samples of the next batch. This allows to process longer sequences while keeping computational complexity manageable.\n",
        "\n",
        "You can read more about stateful RNNs in the FAQ.\n",
        "\n"
      ]
    },
    {
      "cell_type": "code",
      "metadata": {
        "id": "TMZeYyYvFn-h",
        "colab_type": "code",
        "colab": {
          "base_uri": "https://localhost:8080/",
          "height": 360
        },
        "outputId": "91275c07-88f7-42d4-b972-7dff1890bc6b"
      },
      "source": [
        "from keras.models import Sequential\n",
        "from keras.layers import LSTM, Dense\n",
        "import numpy as np\n",
        "\n",
        "data_dim = 16\n",
        "timesteps = 8\n",
        "num_classes = 10\n",
        "batch_size = 32\n",
        "\n",
        "# Expected input batch shape: (batch_size, timesteps, data_dim)\n",
        "# Note that we have to provide the full batch_input_shape since the network is stateful.\n",
        "# the sample of index i in batch k is the follow-up for the sample i in batch k-1.\n",
        "model = Sequential()\n",
        "model.add(LSTM(32, return_sequences=True, stateful=True,\n",
        "               batch_input_shape=(batch_size, timesteps, data_dim)))\n",
        "model.add(LSTM(32, return_sequences=True, stateful=True))\n",
        "model.add(LSTM(32, stateful=True))\n",
        "model.add(Dense(10, activation='softmax'))\n",
        "\n",
        "model.compile(loss='categorical_crossentropy',\n",
        "              optimizer='rmsprop',\n",
        "              metrics=['accuracy'])\n",
        "\n",
        "# Generate dummy training data\n",
        "x_train = np.random.random((batch_size * 10, timesteps, data_dim))\n",
        "y_train = np.random.random((batch_size * 10, num_classes))\n",
        "\n",
        "# Generate dummy validation data\n",
        "x_val = np.random.random((batch_size * 3, timesteps, data_dim))\n",
        "y_val = np.random.random((batch_size * 3, num_classes))\n",
        "\n",
        "model.fit(x_train, y_train,\n",
        "          batch_size=batch_size, epochs=5, shuffle=False,\n",
        "          validation_data=(x_val, y_val))"
      ],
      "execution_count": 1,
      "outputs": [
        {
          "output_type": "stream",
          "text": [
            "Using TensorFlow backend.\n"
          ],
          "name": "stderr"
        },
        {
          "output_type": "stream",
          "text": [
            "WARNING:tensorflow:From /usr/local/lib/python2.7/dist-packages/tensorflow/python/framework/op_def_library.py:263: colocate_with (from tensorflow.python.framework.ops) is deprecated and will be removed in a future version.\n",
            "Instructions for updating:\n",
            "Colocations handled automatically by placer.\n",
            "WARNING:tensorflow:From /usr/local/lib/python2.7/dist-packages/tensorflow/python/ops/math_ops.py:3066: to_int32 (from tensorflow.python.ops.math_ops) is deprecated and will be removed in a future version.\n",
            "Instructions for updating:\n",
            "Use tf.cast instead.\n",
            "Train on 320 samples, validate on 96 samples\n",
            "Epoch 1/5\n",
            "320/320 [==============================] - 3s 9ms/step - loss: 11.6469 - acc: 0.0906 - val_loss: 11.2596 - val_acc: 0.1458\n",
            "Epoch 2/5\n",
            "320/320 [==============================] - 0s 1ms/step - loss: 11.6425 - acc: 0.1000 - val_loss: 11.2592 - val_acc: 0.1458\n",
            "Epoch 3/5\n",
            "320/320 [==============================] - 0s 1ms/step - loss: 11.6416 - acc: 0.1000 - val_loss: 11.2589 - val_acc: 0.1458\n",
            "Epoch 4/5\n",
            "320/320 [==============================] - 0s 1ms/step - loss: 11.6408 - acc: 0.1031 - val_loss: 11.2588 - val_acc: 0.1562\n",
            "Epoch 5/5\n",
            "320/320 [==============================] - 0s 1ms/step - loss: 11.6401 - acc: 0.1062 - val_loss: 11.2588 - val_acc: 0.1562\n"
          ],
          "name": "stdout"
        },
        {
          "output_type": "execute_result",
          "data": {
            "text/plain": [
              "<keras.callbacks.History at 0x7f5cba982d50>"
            ]
          },
          "metadata": {
            "tags": []
          },
          "execution_count": 1
        }
      ]
    }
  ]
}